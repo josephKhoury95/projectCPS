{
 "cells": [
  {
   "cell_type": "markdown",
   "metadata": {},
   "source": [
    "# Dependencies"
   ]
  },
  {
   "cell_type": "code",
   "execution_count": null,
   "metadata": {
    "collapsed": true
   },
   "outputs": [],
   "source": [
    "import numpy as np\n",
    "import random\n",
    "import gym\n",
    "import gym_cps\n",
    "import matplotlib.pyplot as plt\n",
    "import pickle"
   ]
  },
  {
   "cell_type": "markdown",
   "metadata": {},
   "source": [
    "# Random (Attacker & Defender)"
   ]
  },
  {
   "cell_type": "code",
   "execution_count": null,
   "metadata": {
    "collapsed": true,
    "scrolled": false
   },
   "outputs": [],
   "source": [
    "## Iterate this much of time\n",
    "iterations = 100000\n",
    "\n",
    "## Store all iterations pathes\n",
    "paths = []\n",
    "\n",
    "## Store Winning factor\n",
    "w_factor_random = []\n",
    "w_factor_random.append(1)\n",
    "\n",
    "for i in range(iterations):\n",
    "    if i%10000 == 0:\n",
    "        print(\"Episode: \", i)\n",
    "        \n",
    "    ## Create the Environmnet\n",
    "    env = gym.make('cps-v0')\n",
    "    \n",
    "    ## Get Environment Parameters\n",
    "    env.observation, env.d_observation    = env.reset()\n",
    "    done                                  = env.done\n",
    "    win                                   = env.win\n",
    "    \n",
    "    win_factor  = env.win_factor\n",
    "    \n",
    "    ## Set a path, and append to it\n",
    "    a_path = []\n",
    "    d_path = []\n",
    "    \n",
    "    a_path.append(env.observation.name)\n",
    "    d_path.append(env.d_observation.name)\n",
    "    \n",
    "    \n",
    "    ## Loop over...\n",
    "    while not done:\n",
    "        \n",
    "        ############\n",
    "        ## Attacker\n",
    "        ## Get random action for Attacker on Observation (node)\n",
    "        action = env.action_sample_jk(env.observation)\n",
    "        new_observation, reward_a, reward_b, done, win_factor, win_step, win = env.attack_step_1_jk(action)\n",
    "        \n",
    "        \n",
    "        ############\n",
    "        ## Defender\n",
    "        ## Get random action for Defender on New_Observation (node)\n",
    "        d_action = env.defender_action_sample_jk_jk(action)\n",
    "        ## Defense Step takes 1 arguments: [a_action, next_move_node, next_move_node_index]\n",
    "        d_reward = env.defense_step_jk_jk(d_action)\n",
    "\n",
    "        ## Assign new Observation\n",
    "        a_path.append(env.observation.name + \" \" + str(action[2]))\n",
    "        d_path.append(env.d_observation.name + \" \" + str(d_action[2]))\n",
    "        paths.append([a_path, d_path])\n",
    "        \n",
    "        \n",
    "        \n",
    "        ## If done append iteration path to the paths\n",
    "        if done:\n",
    "            w_factor_random.append(win_factor)\n",
    "            break\n",
    "\n",
    "print(\"Done\")"
   ]
  },
  {
   "cell_type": "code",
   "execution_count": null,
   "metadata": {
    "collapsed": true
   },
   "outputs": [],
   "source": [
    "print(w_factor_random.count(-1)) ##Attacker\n",
    "print(w_factor_random.count(1))  ##Defender"
   ]
  }
 ],
 "metadata": {
  "kernelspec": {
   "display_name": "Python 3",
   "language": "python",
   "name": "python3"
  },
  "language_info": {
   "codemirror_mode": {
    "name": "ipython",
    "version": 3
   },
   "file_extension": ".py",
   "mimetype": "text/x-python",
   "name": "python",
   "nbconvert_exporter": "python",
   "pygments_lexer": "ipython3",
   "version": "3.6.3"
  }
 },
 "nbformat": 4,
 "nbformat_minor": 2
}
